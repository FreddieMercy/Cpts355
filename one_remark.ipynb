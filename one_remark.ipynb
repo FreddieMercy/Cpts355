{
 "cells": [
  {
   "cell_type": "markdown",
   "metadata": {},
   "source": [
    "Your name: Junhao Zhang \"Freddie\" (ID# 11356533)"
   ]
  },
  {
   "cell_type": "markdown",
   "metadata": {},
   "source": [
    "## Overview\n",
    "\n",
    "**Weight:** This assignment will count for approximately 5% of your final grade.\n",
    "\n",
    "**Due Date:** Wednesday, Sept. 10 by 11:59PM\n",
    "\n",
    "In this assignment you will explore use of some of the features of Python.\n",
    "\n",
    "## Acquiring the initial IPython notebook file\n",
    "This assignment itself is your starting ipython notebook file. Download the file by right-clicking on the downward pointing arrow icon at the top right of this page and selecting \"Save Link As\". Store the file where it is accessible to your running IPython notebook program. And then use the file list on the Dashboard, or File menu to open it. \n",
    "\n",
    "In accordance with the instructions for turning in the assignment the thing you turn in is to be named `one.ipynb`. Use \"Make a copy...\" on the File menu to make a copy of this file and then \"Rename...\" on the File menu to make its name be `one` (the `.ipynb` suffix will be added automatically).   \n",
    "\n",
    "## Turning in your assignment\n",
    "\n",
    "**Note the following directions carefully.** Points will be deducted for incorrectly named files and functions. All the problem solutions should be placed in a single file named `one.ipynb`. When you are done and certain that everything is working correctly, turn in your file by uploading on the [course turn-in](http://www.eecs.wsu.edu/~hauser/cs355/turnin.html) page. I repeat, the file that you upload must be named `one.ipynb`. Be sure to include your name in the first cell of the file. You may turn in your assignment as many times as you like. Only the last one submitted will be graded.\n",
    "\n",
    "Implement your code for Python 3.\n",
    "\n",
    "The work you turn in is to be **your own personal work.** You may **not** copy another student's code or work together on writing code. You may not copy code from the web, or anything else that lets you avoid solving the problems for yourself.\n",
    "\n",
    "## Grading\n",
    "\n",
    "The assignment will be marked for good programming style (appropriate algorithms, good indentation and appropriate comments -- refer to the [Python style guide](https://urldefense.proofpoint.com/v1/url?u=http://www.python.org/peps/pep-0008.html&k=EWEYHnIvm0nsSxnW5y9VIw%3D%3D%0A&r=eeGljI9zw5gpItgZcG1FJb0lhuP4N9HYnT2rD7WAdC4%3D%0A&m=L8PrRa18UgLXP8Hrkq0dXrh8oiP%2B1tMYu5JO7k6O7Mk%3D%0A&s=c04949e849ed5bd9000c30f1f3fe0d2a41dcbaac28afdb2dfea7c6156bed4c81) -- as well as thoroughness of testing and clean and correct execution. The points below add up to 90%. The remaining 10% of the credit will be for the thoroughness of your testing. We will discuss in class what I'm expecting.\n",
    "\n",
    "* Good python style favors `for` loops rather than `while` loops (when possible) for reasons discussed in class.\n",
    "* Also, code to do the same thing (or something easily parameterizable) at different points in a program should not be duplicated but extracted into a callable function.\n",
    "* Turning in \"final\" code that produces debugging output is bad form, and points will be deducted. Here's a trick. Near the top of your program write a debug function that can be turned on and off by changing a single variable.\n",
    "\n",
    "```\n",
    "    debugging = True\n",
    "    def debug(*s): if debugging: print(*s)\n",
    "```\n",
    "\n",
    "Where you want to produce debugging output use `debug(\"This is my debugging output\")` instead of `print`. (How it works: Using `*` in front of the **parameter** of a function means that a variable number of **arguments** can be passed to that parameter when the function is called. Then using `*s` as `print`'s argument passes along those arguments to `print` which itself takes a variable number of arguments.) "
   ]
  },
  {
   "cell_type": "markdown",
   "metadata": {},
   "source": [
    "## Warmup -- makettable() and trans() -- 30%\n",
    "The text of a message can be hidden by applying a translation function to each character.\n",
    "\n",
    "Define a function `makettable(s1,s2)` that returns a dictionary such that each character in `s1` is mapped to the character at the corresponding position in `s2`. You may assume that the characters in `s1` are unique and that the two strings are the same length. (When I say \"you may assume X\" it means that your code does not have to check whether X holds or not). So for example, `makettable('abcdefg', 'gfedcba')` returns `{'a': 'g', 'c': 'e', 'b': 'f', 'e': 'c', 'd': 'd', 'g': 'a', 'f': 'b'}` Important note: throughout the class, when I say a function returns a value, I do not mean that it prints the value. Please pay attention to the difference.\n",
    "\n",
    "Now, define a function `trans(ttable, s)`. `trans` translates its string argument, `s`, according to its translation table argument, `ttable`. Argument `ttable` is, of course, a dictionary returned by the `makettable` function, and the result of `trans` is obtained by replacing each character, `c`, of `s` by `ttable[c]`, if `c` is amongst the keys of the `ttable`. If however `c` is not in `ttable.keys()` then it is unchanged in the output. This is all harder to describe than to do! To easily look up `k` in dictionary, `D`, specifying that the same character is to be used if it is not present as a key in the dictionary you can use\n",
    "```\n",
    "translation = D.get(k,k)  # use help({}.get) to see more about get\n",
    "```\n",
    "**The above trick with `get` is important to learn and use when appropriate. Points will be taken off for not using it when appropriate!**"
   ]
  },
  {
   "cell_type": "code",
   "execution_count": 1,
   "metadata": {
    "collapsed": false
   },
   "outputs": [],
   "source": [
    "def makettable(s1,s2):\n",
    "    dict = {}\n",
    "    i = 0\n",
    "    #Loop throught the input string s1\n",
    "    for x in s1:\n",
    "        #Check does the character of the s1 already exist in the dictionary with the \n",
    "        #proper value from s2, if not then update\n",
    "        dict[x] = dict.get(x, s2[i])\n",
    "        i+=1\n",
    "    return dict"
   ]
  },
  {
   "cell_type": "code",
   "execution_count": 2,
   "metadata": {
    "collapsed": false
   },
   "outputs": [],
   "source": [
    "def trans(ttable, s):\n",
    "    tmp = \"\"\n",
    "    for x in s:\n",
    "        #if the character in s is not in the dictionary, then don't translate it but add the original character\n",
    "        #into the target string\n",
    "        tmp += ttable.get(x, x)\n",
    "    return tmp"
   ]
  },
  {
   "cell_type": "markdown",
   "metadata": {},
   "source": [
    "Define a function `testtrans()` that minimally does the following (more testing code would be good.):"
   ]
  },
  {
   "cell_type": "code",
   "execution_count": 3,
   "metadata": {
    "collapsed": false
   },
   "outputs": [
    {
     "data": {
      "text/plain": [
       "True"
      ]
     },
     "execution_count": 3,
     "metadata": {},
     "output_type": "execute_result"
    }
   ],
   "source": [
    "# function to test translation code\n",
    "# return True if successful, False if any test fails\n",
    "\n",
    "def testtrans():\n",
    "    ttable = makettable('abc', 'xyz')\n",
    "    revttable = makettable('xyz', 'abc')\n",
    "    tests = \"Now I know my abc's\"\n",
    "    answer = \"Now I know my xyz's\"\n",
    "    if trans(ttable, tests) != answer: return False\n",
    "    if trans(revttable, trans(ttable, tests)) != \"Now I know mb abc's\": return False\n",
    "    if trans(ttable,'') != '': return False\n",
    "    if trans(makettable('',''), \"abc\") != 'abc': return False\n",
    "    return True\n",
    "testtrans()"
   ]
  },
  {
   "cell_type": "markdown",
   "metadata": {},
   "source": [
    "## Comment\n",
    "* The algorithm is well designed.\n",
    "* The coding style is elegant."
   ]
  },
  {
   "cell_type": "code",
   "execution_count": 17,
   "metadata": {
    "collapsed": true
   },
   "outputs": [],
   "source": [
    "Score = {}\n",
    "Score[\"warmup\"] = 30"
   ]
  },
  {
   "cell_type": "markdown",
   "metadata": {
    "collapsed": true
   },
   "source": [
    "## histo -- 30%\n",
    "\n",
    "Define a function, `histo(s)` computing the histogram of a given string. (Look up *histogram* in the dictionary if you don't know what it means.) The histogram returned by the function is a list of characters in the input string `s` each paired with its frequency. Characters must appear in the list ordered from **least frequent to most frequent**. For example, `histo('implemented')` is `[('t', 1), ('p', 1), ('n', 1), ('l', 1), ('i', 1), ('d', 1), ('m', 2), ('e', 3)]`. (Characters with the same frequency must appear in decreasing alphabetical order.) To implement the sorting you **must** use the python built-in function `sorted`. Do **not** write your own sorting code. (Hint: help(sorted) and the Python documentation are your friends.)\n",
    "\n",
    "Define a function `testhisto()` that tests your `histo` function, returning `True` if the code passes your tests, and `False` if the tests fail. Hint: By now you should be familiar with using dictionaries and should be able to write a function that builds the histogram in a single pass over the input string. "
   ]
  },
  {
   "cell_type": "code",
   "execution_count": 18,
   "metadata": {
    "collapsed": false
   },
   "outputs": [
    {
     "data": {
      "text/plain": [
       "[('d', 1),\n",
       " ('e', 3),\n",
       " ('i', 1),\n",
       " ('l', 1),\n",
       " ('m', 2),\n",
       " ('n', 1),\n",
       " ('p', 1),\n",
       " ('t', 1)]"
      ]
     },
     "execution_count": 18,
     "metadata": {},
     "output_type": "execute_result"
    }
   ],
   "source": [
    "def histo(s):\n",
    "    dict = {}\n",
    "    for x in s:\n",
    "        #Check that does the character x of string s already exist in the dictionary, if does then add one to its\n",
    "        #value but if not then start it from zero\n",
    "        dict[x] = dict.get(x, 0) + 1\n",
    "    #Sort the dictionary \n",
    "    dict = sorted(dict.items())\n",
    "    return dict\n",
    "histo('implemented')"
   ]
  },
  {
   "cell_type": "code",
   "execution_count": 19,
   "metadata": {
    "collapsed": false
   },
   "outputs": [
    {
     "data": {
      "text/plain": [
       "True"
      ]
     },
     "execution_count": 19,
     "metadata": {},
     "output_type": "execute_result"
    }
   ],
   "source": [
    "from random import *\n",
    "def testhisto():\n",
    "    alph = \"ABCDEFGHIJKLMNOPQRSTUVWXYZabcdefghijklmnopqrstuvwxyz\"\n",
    "    test = []\n",
    "    dict = {}\n",
    "    test_str=''\n",
    "    #Build a random string length 100.\n",
    "    for i in range(0,100):\n",
    "        #Pick a random alphabet \n",
    "        num = randint(0,25)\n",
    "        x = alph[num]\n",
    "        #Check that does the character x of string s already exist in the dictionary, if does then add one to its\n",
    "        #value but if not then start it from zero\n",
    "        dict[x] = dict.get(x, 0)+1\n",
    "        test_str+=x\n",
    "    dict = sorted(dict.items())\n",
    "    if histo(test_str) == dict:\n",
    "        return True\n",
    "    else:\n",
    "        return False\n",
    "testhisto()"
   ]
  },
  {
   "cell_type": "markdown",
   "metadata": {},
   "source": [
    "## Comment\n",
    "* The algorithm is incorrect. The frequency of the string is correct but the order of the output list is not correct.\n",
    "* The coding style is elegant.\n",
    "* The unit test is really thorough, though we do not require writing an algorithm to test. The only problem may be due to that you misunderstand the question. Because it requires not only the order of the keys (decreasingly) but also the values (increasingly)."
   ]
  },
  {
   "cell_type": "code",
   "execution_count": 20,
   "metadata": {
    "collapsed": true
   },
   "outputs": [],
   "source": [
    "Score[\"histo\"] = 25\n",
    "Score[\"testhisto\"] = 5"
   ]
  },
  {
   "cell_type": "markdown",
   "metadata": {},
   "source": [
    "## digraphs() -- 30%\n",
    "A *digraph* is a pair of characters that occur adjacent to one another in a text. By convention we write each digraph between a pair of '/' characters to make it easier to see where the blanks are. For example the digraphs at the beginning of the first sentence of this section are /A /, / d/, /di/, /ig/, etc. Digraph frequency counts are helpful in cryptological analysis of some ciphers.\n",
    "\n",
    "Define a `digraphs(s)` function that returns a list containing the number of times each digraph occurs in string `s`. Digraphs must be listed in order from *most* to *least* frequent (not the same as the previous problem. If there are ties, put the ties in increasing *lexicographic* order. Again, use the built-in function `sorted` and do not write your own sorting code. Digraphs that do not occur in the input (0 occurrences) should not be listed in the output.\n",
    "\n",
    "Here is what the function might return on some hypothetical sample input:\n",
    "```\n",
    "[('/e /', 83), ('/ t/', 66), ('/ a/', 56), ('/in/', 53), ('/th/', 52),\n",
    " ('/ </', 48), ('/co/', 47), ('/de/', 44), ('/re/', 44), ('/s /', 44),\n",
    " ('/to/', 42), ('/he/', 41), ('/n /', 40), ('/d /', 38), ('/ o/', 37),\n",
    " ('/or/', 36), ('/t /', 36), ('/ i/', 34), ('/an/', 33), ('/r /', 32),\n",
    " ('/. /', 31), ('/ d/', 30)]\n",
    "```\n",
    "\n",
    "Define a test function, testdigraphs() to test your digraphs code using the same conventions as in the previous problems.\n"
   ]
  },
  {
   "cell_type": "code",
   "execution_count": 21,
   "metadata": {
    "collapsed": false
   },
   "outputs": [],
   "source": [
    "def digraphs(s):\n",
    "    i = 0\n",
    "    dict = {}\n",
    "    x = \"\"\n",
    "    for i in range(0, len(s)-1):\n",
    "        x = '/'+s[i] + s[i+1]+'/'\n",
    "        dict[x] = dict.get(x,0)+1\n",
    "    #Swap the keys and values and save it to a list\n",
    "    items = [(v, k) for k, v in dict.items()]\n",
    "    #Sort it from the least frequency to the most frequency\n",
    "    items.sort()\n",
    "    #Now, it is from the most frequency to the least frequency\n",
    "    items.reverse()\n",
    "    #Swap the keys and values bakc to original\n",
    "    items = [(v, k) for k, v in items]\n",
    "    return items"
   ]
  },
  {
   "cell_type": "code",
   "execution_count": 22,
   "metadata": {
    "collapsed": false
   },
   "outputs": [
    {
     "data": {
      "text/plain": [
       "True"
      ]
     },
     "execution_count": 22,
     "metadata": {},
     "output_type": "execute_result"
    }
   ],
   "source": [
    "def testdigraphs():\n",
    "    alph = \"ABCDEFGHI JKLM NOPQRSTU\\nVWXYZab cdefghijklmnopq rstuvwxyz\"\n",
    "    test = []\n",
    "    dict = {}\n",
    "    y = ''\n",
    "    test_str=''\n",
    "    #Creat a random sentance length 100\n",
    "    for i in range(0,100):\n",
    "        num = randint(0,len(alph)-1)\n",
    "        if i < 1:\n",
    "            #Set up the first character in the sentance\n",
    "            y = alph[num]\n",
    "            test_str += y\n",
    "        else:\n",
    "            #If there is new character, combine it to the last character y, and save it to the test dictionary\n",
    "            x = alph[num]\n",
    "            tmp = '/'+ y + x + '/'\n",
    "            dict[tmp] = dict.get(tmp, 0)+1\n",
    "            #Add the new character to the end of the test string \n",
    "            test_str+=x\n",
    "            #Now, the current character x became the last character y in the next loop\n",
    "            y = x\n",
    "    items = [(v, k) for k, v in dict.items()]\n",
    "    items.sort()\n",
    "    items.reverse()\n",
    "    items = [(v, k) for k, v in items]\n",
    "\n",
    "    if digraphs(test_str) == items:\n",
    "        return True\n",
    "    else:\n",
    "        return False\n",
    "testdigraphs()"
   ]
  },
  {
   "cell_type": "markdown",
   "metadata": {},
   "source": [
    "## Comment\n",
    "* The algorithm is incorrect. It is the same problem as `histo()`. The order of output is reversed. But the idea behind the algorithm is good.\n",
    "* The coding style is elegant.\n",
    "* The unit test is really thorough, though we do not require writing an algorithm to test."
   ]
  },
  {
   "cell_type": "code",
   "execution_count": 23,
   "metadata": {
    "collapsed": true
   },
   "outputs": [],
   "source": [
    "Score[\"digraphs\"] = 28\n",
    "Score[\"testdigraphs\"] = 5"
   ]
  },
  {
   "cell_type": "markdown",
   "metadata": {},
   "source": [
    "## Split, Join and Slices\n",
    "Suppose you have a list of words [\"A\", \"smoky\", \"day\", \"on\", \"the\", \"Palouse\"]. The `join` method on strings concatenates the strings in a list, putting a copy of the string whose `join` method is used in between each of them. For example:"
   ]
  },
  {
   "cell_type": "code",
   "execution_count": 24,
   "metadata": {
    "collapsed": false
   },
   "outputs": [
    {
     "data": {
      "text/plain": [
       "'A smoky day on the Palouse.'"
      ]
     },
     "execution_count": 24,
     "metadata": {},
     "output_type": "execute_result"
    }
   ],
   "source": [
    "uglyDayList = [\"A\", \"smoky\", \"day\", \"on\", \"the\", \"Palouse\"]\n",
    "uglyDaySentence = ' '.join(uglyDayList)+'.'\n",
    "uglyDaySentence"
   ]
  },
  {
   "cell_type": "markdown",
   "metadata": {},
   "source": [
    "Similarly, the `split` method on strings chops them up into a list, using a specified separator, which defaults to whitespace."
   ]
  },
  {
   "cell_type": "code",
   "execution_count": 25,
   "metadata": {
    "collapsed": false
   },
   "outputs": [
    {
     "data": {
      "text/plain": [
       "['A', 'smoky', 'day', 'on', 'the', 'Palouse.']"
      ]
     },
     "execution_count": 25,
     "metadata": {},
     "output_type": "execute_result"
    }
   ],
   "source": [
    "uglyDaySentence.split()"
   ]
  },
  {
   "cell_type": "markdown",
   "metadata": {},
   "source": [
    "Finally, slices are a handy way to get rid of unwanted things, like the last letter of a sentence, the trailing newline character of a line read from a file, etc."
   ]
  },
  {
   "cell_type": "code",
   "execution_count": 26,
   "metadata": {
    "collapsed": false
   },
   "outputs": [
    {
     "data": {
      "text/plain": [
       "'A smoky day on the Palouse'"
      ]
     },
     "execution_count": 26,
     "metadata": {},
     "output_type": "execute_result"
    }
   ],
   "source": [
    "uglyDaySentence[:-1]"
   ]
  },
  {
   "cell_type": "markdown",
   "metadata": {},
   "source": [
    "## Cryptogram -- 5% extra credit\n",
    "Use your `trans`, `histo`, and `digraph` functions in successive cells of this notebook to try to figure out the following cryptogram. To make the functions available in the interactive session\n",
    "\n",
    "If you haven't solved one of these before you may want to look on the web for hints on the relative frequencies of letters and digraphs in the English language. You can use your functions to try out different possibilities and get clues about the translation being used. (Digits and punctuation are not changed in this cryptogram.)\n",
    "```\n",
    "ZYX WXZVUTSRZXQ POZYNM SVLXK VM WRVM JNWXKZK, INNQSRMQK, RMQ MXRWHO\n",
    "GWRKKSRMQK. VZ VK RSKN RKKNUVRZXQ IVZY WVLXWK RMQ VK JNTMQ VM RWXRK\n",
    "IVZY MXRWHO KZWXRFK RMQ SREXK. RM XDUXSSXMZ KIVFFXW, VZ YRK XLXM HXXM\n",
    "WXPNWZXQ JRW NTZ RZ KXR RMQ YRK UNMKXCTXMZSO UNSNMVBXQ FRMO KFRSS\n",
    "VKSRMQK IVZYVM VZK WRMGX. QTWVMG ZYX XRWSO OXRWK NJ ZYX ZIXMZVXZY\n",
    "UXMZTWO VZ VK KRVQ ZN YRLX HXXM UNFFNM XLXM VM HTKO PRWZK NJ HRMGENE,\n",
    "KNFXZVFXK XRZVMG QNFXKZVU RMVFRSK.\n",
    "\n",
    "ZYXVW MRZTWRS QVXZ VMUSTQXK FRFFRSK RMQ NUURKVNMRSSO HVWQK. KFRSS\n",
    "KPXUVFXMK TP ZN 3–4 F (9.8–13.1 JZ) SNMG XRZ FRVMSO WNQXMZK KTUY RK\n",
    "WRZK, IYXWXRK SRWGXW VMQVLVQTRSK KIVZUY ZN PWXO KTUY RK LVLXWWVQRX\n",
    "(X.G. UVLXZK RMQ HVMZTWNMGK), RMQ XLXM PWVFRZXK RMQ PVGK. MXRW YTFRM\n",
    "YRHVZRZVNM, ZYXO RWX EMNIM ZN KMRZUY KZWRO UYVUEXMK, URZK, RMQ QNGK NM\n",
    "NUURKVNM. RFNMG ZYX SRWGXKZ, JTSSO QNUTFXMZXQ PWXO VZXFK ZN YRLX HXXM\n",
    "ZREXM RWX R YRSJ-KZRWLXQ KTM HXRW NJ 23 EVSNGWRFK ZYRZ IRK XRZXM HO R\n",
    "6.95 F (22.8 JZ) KPXUVFXM RMQ ZNNE KNFX ZXM IXXEK ZN QVGXKZ RK IXSS RK\n",
    "PVGK NJ FNWX ZYRM 60 EG (132 SH). RK R WTSX NJ ZYTFH, ZYXKX KMREXK\n",
    "KXXF RHSX ZN KIRSSNI PWXO TP ZN NMX-CTRWZXW ZYXVW NIM SXMGZY RMQ TP ZN\n",
    "ZYXVW NIM IXVGYZ. RK IVZY RSS POZYNMK, ZYXO RWX PWVFRWVSO RFHTKY\n",
    "YTMZXWK, TKTRSSO IRVZVMG TMZVS PWXO IRMQXWK IVZYVM KZWVEX WRMGX HXJNWX\n",
    "KXVBVMG VZ VM ZYXVW UNVSK RMQ EVSSVMG LVR UNMKZWVUZVNM. YNIXLXW, ZYXWX\n",
    "VK RZ SXRKZ NMX QNUTFXMZXQ URKX NJ R JNWRGVMG POZYNM XMZXWVMG R JNWXKZ\n",
    "YTZ RMQ ZREVMG R UYVSQ. (XM.IVEVPXQVR.NWG/IVEV/POZYNM_WXZVUTSRZTK)\n",
    "```\n",
    "Hint: use your `makettable` function to gradually build better and better translations between the uppercase cryptogram characters to lowercase plaintext characters to make it visually apparent which characters have been translated. Note that numbers and punctuation in the cryptogram will appear unchanged in the answer.\n",
    "\n",
    "I want to see at least several steps along the way to the solution appearing in multiple cells below. Explain your thinking about the steps and what happened in intermediate steps in additional markdown cells.\n",
    "\n",
    "\n"
   ]
  },
  {
   "cell_type": "markdown",
   "metadata": {},
   "source": [
    "There will be multiple invervening cells. This should be the last cell of your notebook, in which you can display the answer to the cryptogram.\n",
    "\n",
    "**Write your answer below this line** "
   ]
  },
  {
   "cell_type": "code",
   "execution_count": 27,
   "metadata": {
    "collapsed": false
   },
   "outputs": [
    {
     "name": "stdout",
     "output_type": "stream",
     "text": [
      "93\n"
     ]
    }
   ],
   "source": [
    "FinalScore = sum(Score.values())\n",
    "print(FinalScore)"
   ]
  },
  {
   "cell_type": "markdown",
   "metadata": {},
   "source": [
    "# Summary\n",
    "## FinalScore = 93\n",
    "* The algorithms are well designed though, there are mistakes, which leads to incorrect answers.\n",
    "* The coding style is elegant.\n",
    "* The testing is very thorough."
   ]
  }
 ],
 "metadata": {
  "kernelspec": {
   "display_name": "Python 3",
   "language": "python",
   "name": "python3"
  },
  "language_info": {
   "codemirror_mode": {
    "name": "ipython",
    "version": 3
   },
   "file_extension": ".py",
   "mimetype": "text/x-python",
   "name": "python",
   "nbconvert_exporter": "python",
   "pygments_lexer": "ipython3",
   "version": "3.5.0"
  }
 },
 "nbformat": 4,
 "nbformat_minor": 0
}
